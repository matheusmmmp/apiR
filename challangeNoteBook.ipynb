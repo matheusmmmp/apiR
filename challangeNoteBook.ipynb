{
 "cells": [
  {
   "cell_type": "code",
   "execution_count": 69,
   "id": "initial_id",
   "metadata": {
    "collapsed": true,
    "ExecuteTime": {
     "end_time": "2024-02-23T20:08:17.843911700Z",
     "start_time": "2024-02-23T20:08:15.295319600Z"
    }
   },
   "outputs": [
    {
     "name": "stdout",
     "output_type": "stream",
     "text": [
      "Requirement already satisfied: pandas in c:\\users\\programador4\\pycharmprojects\\apir\\.venv\\lib\\site-packages (2.2.0)Note: you may need to restart the kernel to use updated packages.\n",
      "\n",
      "Requirement already satisfied: numpy<2,>=1.26.0 in c:\\users\\programador4\\pycharmprojects\\apir\\.venv\\lib\\site-packages (from pandas) (1.26.4)\n",
      "Requirement already satisfied: python-dateutil>=2.8.2 in c:\\users\\programador4\\pycharmprojects\\apir\\.venv\\lib\\site-packages (from pandas) (2.8.2)\n",
      "Requirement already satisfied: pytz>=2020.1 in c:\\users\\programador4\\pycharmprojects\\apir\\.venv\\lib\\site-packages (from pandas) (2024.1)\n",
      "Requirement already satisfied: tzdata>=2022.7 in c:\\users\\programador4\\pycharmprojects\\apir\\.venv\\lib\\site-packages (from pandas) (2024.1)\n",
      "Requirement already satisfied: six>=1.5 in c:\\users\\programador4\\pycharmprojects\\apir\\.venv\\lib\\site-packages (from python-dateutil>=2.8.2->pandas) (1.16.0)\n"
     ]
    },
    {
     "name": "stderr",
     "output_type": "stream",
     "text": [
      "\n",
      "[notice] A new release of pip is available: 23.2.1 -> 24.0\n",
      "[notice] To update, run: python.exe -m pip install --upgrade pip\n"
     ]
    }
   ],
   "source": [
    "pip install pandas"
   ]
  },
  {
   "cell_type": "code",
   "execution_count": 70,
   "outputs": [],
   "source": [
    "import requests\n",
    "import pandas as pd\n",
    "import json\n"
   ],
   "metadata": {
    "collapsed": false,
    "ExecuteTime": {
     "end_time": "2024-02-23T20:08:17.849100400Z",
     "start_time": "2024-02-23T20:08:17.847092200Z"
    }
   },
   "id": "a257f3d18549fb6a"
  },
  {
   "cell_type": "code",
   "execution_count": 71,
   "outputs": [],
   "source": [
    "# Substitua 'SUA_CHAVE_DE_API' pela sua chave de API\n",
    "API_KEY = 'RGAPI-f996c09d-3987-4e3b-aaed-0fa0469d0c3b'\n",
    "\n",
    "# Região do servidor (por exemplo, 'br1' para o servidor brasileiro)\n",
    "REGION = 'br1'\n",
    "\n",
    "# Nome de invocador (seu nome de jogador)\n",
    "#SUMMONER_NAME = 'teteco25'\n",
    "\n",
    "# URL base da API da Riot Games\n",
    "BASE_URL = f'https://{REGION}.api.riotgames.com/lol'\n"
   ],
   "metadata": {
    "collapsed": false,
    "ExecuteTime": {
     "end_time": "2024-02-23T20:08:17.857298600Z",
     "start_time": "2024-02-23T20:08:17.849100400Z"
    }
   },
   "id": "6ea18c89aa12ddc9"
  },
  {
   "cell_type": "code",
   "execution_count": 72,
   "outputs": [],
   "source": [
    "listDivision = ['DIAMOND','EMERALD','PLATINUM','GOLD','SILVER','BRONZE','IRON']\n",
    "listTier = ['I','II','III','IV']\n",
    "#RANKED_SOLO_5x5"
   ],
   "metadata": {
    "collapsed": false,
    "ExecuteTime": {
     "end_time": "2024-02-23T20:08:17.863175500Z",
     "start_time": "2024-02-23T20:08:17.856298Z"
    }
   },
   "id": "c996935877405574"
  },
  {
   "cell_type": "code",
   "execution_count": 73,
   "outputs": [],
   "source": [
    "def filter_data(data):\n",
    "    filtered_data = []\n",
    "    for item in data:\n",
    "        localized_names = item[\"localizedNames\"].get(\"pt_BR\")\n",
    "        if localized_names:\n",
    "            item[\"localizedNames\"] = localized_names\n",
    "            filtered_data.append(item)\n",
    "    return filtered_data\n"
   ],
   "metadata": {
    "collapsed": false,
    "ExecuteTime": {
     "end_time": "2024-02-23T20:08:17.889206900Z",
     "start_time": "2024-02-23T20:08:17.864176500Z"
    }
   },
   "id": "150120bc22591e5c"
  },
  {
   "cell_type": "code",
   "execution_count": 74,
   "outputs": [],
   "source": [
    "def obter_id_invocador(SUMMONER_NAME):\n",
    "    summoner_url = f'https://{REGION}.api.riotgames.com/lol/summoner/v4/summoners/by-name/{SUMMONER_NAME}'\n",
    "    headers = {'X-Riot-Token': API_KEY}\n",
    "\n",
    "    response = requests.get(summoner_url, headers=headers)\n",
    "\n",
    "    if response.status_code == 200:\n",
    "        match_history_data = response.json()\n",
    "        return match_history_data['puuid']  # Retorna o ID do invocador\n",
    "    else:\n",
    "        print(f'Erro ao obter ID do invocador. Código de status: {response.status_code}')\n",
    "        return None\n"
   ],
   "metadata": {
    "collapsed": false,
    "ExecuteTime": {
     "end_time": "2024-02-23T20:08:17.891210400Z",
     "start_time": "2024-02-23T20:08:17.869905900Z"
    }
   },
   "id": "bdc698389f289879"
  },
  {
   "cell_type": "code",
   "execution_count": 75,
   "outputs": [],
   "source": [
    "def getConfigChallenge():\n",
    "    summoner_url = f'https://{REGION}.api.riotgames.com/lol/challenges/v1/challenges/config'\n",
    "    headers = {'X-Riot-Token': API_KEY}\n",
    "\n",
    "    response = requests.get(summoner_url, headers=headers)\n",
    "\n",
    "    if response.status_code == 200:\n",
    "        filtered_data = filter_data(response.json())\n",
    "        return filtered_data\n",
    "    else:\n",
    "        print(f'Erro ao obter ID do invocador. Código de status: {response.status_code}')\n",
    "        return None"
   ],
   "metadata": {
    "collapsed": false,
    "ExecuteTime": {
     "end_time": "2024-02-23T20:08:17.920524700Z",
     "start_time": "2024-02-23T20:08:17.873010500Z"
    }
   },
   "id": "4ace4afadb19e203"
  },
  {
   "cell_type": "code",
   "execution_count": 76,
   "outputs": [],
   "source": [
    "def getChallengeById(idPartida):\n",
    "    match_history_url = f'https://{REGION}.api.riotgames.com/lol/challenges/v1/player-data/{idPartida}'\n",
    "    headers = {'X-Riot-Token': API_KEY}\n",
    "\n",
    "    response = requests.get(match_history_url, headers=headers)\n",
    "\n",
    "    if response.status_code == 200:\n",
    "        player_challenges_data = response.json()\n",
    "        return player_challenges_data\n",
    "    else:\n",
    "        print(f'Erro ao obter histórico de partidas. Código de stasstus: {response.status_code}')\n",
    "        return None"
   ],
   "metadata": {
    "collapsed": false,
    "ExecuteTime": {
     "end_time": "2024-02-23T20:08:17.929035600Z",
     "start_time": "2024-02-23T20:08:17.880154100Z"
    }
   },
   "id": "9cd822731e0bd8d9"
  },
  {
   "cell_type": "code",
   "execution_count": 77,
   "outputs": [],
   "source": [
    "def getListNamesByElo(tier,division):\n",
    "    list_player = f'https://{REGION}.api.riotgames.com/lol/league/v4/entries/RANKED_SOLO_5x5/{division}/{tier}?page=1'\n",
    "    headers = {'X-Riot-Token': API_KEY}\n",
    "\n",
    "    response = requests.get(list_player, headers=headers)\n",
    "\n",
    "    if response.status_code == 200:\n",
    "        player_challenges_data = response.json()\n",
    "        return player_challenges_data\n",
    "    else:\n",
    "        print(f'Erro ao obter histórico de partidas. Código de stasstus: {response.status_code}')\n",
    "        return None"
   ],
   "metadata": {
    "collapsed": false,
    "ExecuteTime": {
     "end_time": "2024-02-23T20:08:17.929035600Z",
     "start_time": "2024-02-23T20:08:17.883700600Z"
    }
   },
   "id": "2fce9c0c72f3f9e4"
  },
  {
   "cell_type": "code",
   "execution_count": 78,
   "outputs": [
    {
     "ename": "TypeError",
     "evalue": "obter_id_invocador() missing 1 required positional argument: 'SUMMONER_NAME'",
     "output_type": "error",
     "traceback": [
      "\u001B[1;31m---------------------------------------------------------------------------\u001B[0m",
      "\u001B[1;31mTypeError\u001B[0m                                 Traceback (most recent call last)",
      "Cell \u001B[1;32mIn[78], line 3\u001B[0m\n\u001B[0;32m      1\u001B[0m \u001B[38;5;28;01mif\u001B[39;00m \u001B[38;5;18m__name__\u001B[39m \u001B[38;5;241m==\u001B[39m \u001B[38;5;124m'\u001B[39m\u001B[38;5;124m__main__\u001B[39m\u001B[38;5;124m'\u001B[39m:\n\u001B[0;32m      2\u001B[0m     \u001B[38;5;66;03m# Obter o ID do invocador\u001B[39;00m\n\u001B[1;32m----> 3\u001B[0m     account_id \u001B[38;5;241m=\u001B[39m \u001B[43mobter_id_invocador\u001B[49m\u001B[43m(\u001B[49m\u001B[43m)\u001B[49m\n\u001B[0;32m      5\u001B[0m     \u001B[38;5;28;01mif\u001B[39;00m account_id:\n\u001B[0;32m      6\u001B[0m         \u001B[38;5;66;03m# Obter os dados dos desafios de configuração\u001B[39;00m\n\u001B[0;32m      7\u001B[0m         dfConfig \u001B[38;5;241m=\u001B[39m pd\u001B[38;5;241m.\u001B[39mDataFrame(getConfigChallenge())\n",
      "\u001B[1;31mTypeError\u001B[0m: obter_id_invocador() missing 1 required positional argument: 'SUMMONER_NAME'"
     ]
    }
   ],
   "source": [
    "if __name__ == '__main__':\n",
    "    # Obter o ID do invocador\n",
    "    account_id = obter_id_invocador()\n",
    "\n",
    "    if account_id:\n",
    "        # Obter os dados dos desafios de configuração\n",
    "        dfConfig = pd.DataFrame(getConfigChallenge())\n",
    "\n",
    "        # Obter os dados do desafio do usuário\n",
    "        dfUserChallenge = getChallengeById(account_id)\n",
    "        \n",
    "        df = pd.DataFrame(dfUserChallenge['challenges'])\n",
    "        \n",
    "        dfConfig['name'] = dfConfig['localizedNames'].apply(lambda x: x.get('name', ''))\n",
    "        dfConfig['description'] = dfConfig['localizedNames'].apply(lambda x: x.get('description', ''))\n",
    "        dfConfig['shortDescription'] = dfConfig['localizedNames'].apply(lambda x: x.get('shortDescription', ''))\n",
    "        \n",
    "        # Fundir os DataFrames df e dfConfig com base na correspondência entre df['challengeId'] e dfConfig['id']\n",
    "        df_merged = pd.merge(df, dfConfig[['id', 'name','shortDescription']], left_on='challengeId', right_on='id', how='left')\n",
    "        df_merged = df_merged.drop(columns=['id'])\n",
    "        # Iterar sobre os desafios do usuário e imprimir o nome do desafio\n",
    "        for index, row in df_merged.iterrows():\n",
    "            print(f\"ID: {row['challengeId']}\")\n",
    "            print(f\"ID: {row['level']}\")\n",
    "            print(f\"ID: {row['name']}\")\n",
    "            print(\"=\" * 50)\n",
    "    else:\n",
    "        print(\"Nenhum histórico de partidas encontrado.\")"
   ],
   "metadata": {
    "collapsed": false,
    "ExecuteTime": {
     "end_time": "2024-02-23T20:08:17.930037600Z",
     "start_time": "2024-02-23T20:08:17.893212500Z"
    }
   },
   "id": "d12d203e4c3d6cf"
  },
  {
   "cell_type": "markdown",
   "source": [],
   "metadata": {
    "collapsed": false
   },
   "id": "293c2b0849a5dbef"
  },
  {
   "cell_type": "code",
   "execution_count": 79,
   "outputs": [],
   "source": [
    "dfListNamesByElo = pd.DataFrame(getListNamesByElo(listTier[0],listDivision[0]))\n",
    "dfResult = pd.DataFrame(columns=['summonerName', 'summonerID','tier','division'])"
   ],
   "metadata": {
    "collapsed": false,
    "ExecuteTime": {
     "end_time": "2024-02-23T20:08:26.796923900Z",
     "start_time": "2024-02-23T20:08:25.042656500Z"
    }
   },
   "id": "4dcdc1c73f624683"
  },
  {
   "cell_type": "code",
   "execution_count": 84,
   "outputs": [],
   "source": [
    "dfListNamesByElo_top5 = dfListNamesByElo.head(5)\n",
    "\n",
    "for index, row in dfListNamesByElo_top5.iterrows():\n",
    "    dfListNamesByElo_top5.loc[index, 'puuid'] = obter_id_invocador(row['summonerName'])\n"
   ],
   "metadata": {
    "collapsed": false,
    "ExecuteTime": {
     "end_time": "2024-02-23T20:10:22.016008100Z",
     "start_time": "2024-02-23T20:10:15.533354400Z"
    }
   },
   "id": "a1f1b0ffc5f47c8a"
  },
  {
   "cell_type": "code",
   "execution_count": 85,
   "outputs": [
    {
     "data": {
      "text/plain": "                               leagueId        queueType     tier rank  \\\n0  bb766fcd-6fb3-4a83-bb4f-f23ef9219958  RANKED_SOLO_5x5  DIAMOND    I   \n1  45491ebe-679c-4608-9c71-e5a7901ac758  RANKED_SOLO_5x5  DIAMOND    I   \n2  2b8aa521-d780-4dad-989d-4c859524d5ef  RANKED_SOLO_5x5  DIAMOND    I   \n3  d3f6f565-34ff-40ee-978f-d8e2fad07624  RANKED_SOLO_5x5  DIAMOND    I   \n4  63e910fe-c49e-400e-bbe9-f797bf9dc735  RANKED_SOLO_5x5  DIAMOND    I   \n\n                                        summonerId      summonerName  \\\n0  HKLedzO7qssURZr1yFOdZRY_O7tQQSBYxxd3d2jsY7bWqdI             DaryL   \n1  tBU4nJduBvo-7JQ-O6NycykEx-j7PwCr6HqvvK3lb023YOM  neuralplasticity   \n2  p_mp24OoqDibzV2hezuoTwizdGwdV0rM2xqI7z1i1D71Uh8  Justiça Marielle   \n3  dgN65VyzxZwp5_GZ1pBvEtR-O6LEKOK72wQ5uEMoqP0jSEM          Patinhuu   \n4  QUpaShwawcc6DqxoBKoeFLhS8_wN7FXRft05oFRsuqozdLM   Fallen of Albaz   \n\n   leaguePoints  wins  losses  veteran  inactive  freshBlood  hotStreak  \\\n0            64    22      15    False     False       False       True   \n1            75    22      20    False     False       False      False   \n2             7    64      70    False     False       False       True   \n3             0    43      33    False     False       False      False   \n4            21    25      13    False     False       False      False   \n\n                                               puuid  \n0  abU3BrdDWI_A3w4RDv17yjgCfGgjZS63vyLz2dFlc6uutL...  \n1  AMwrD5yBi2STCZIdeTwJH3so5Av2dHcW2zHXzaQHjX9PGD...  \n2  30fKnRdigMOQV9cDG1cGLlZTv3p9NR8-zer_zwmh_k6g5z...  \n3  bamiZG9BjMtQ8CQIa7l33kvjwvWvngzoHVy2VVjAMDUlqS...  \n4  _x2axTUDQuMjMM6AqnROh3TTjWCWTqtT67sKYEyLCnW2hF...  ",
      "text/html": "<div>\n<style scoped>\n    .dataframe tbody tr th:only-of-type {\n        vertical-align: middle;\n    }\n\n    .dataframe tbody tr th {\n        vertical-align: top;\n    }\n\n    .dataframe thead th {\n        text-align: right;\n    }\n</style>\n<table border=\"1\" class=\"dataframe\">\n  <thead>\n    <tr style=\"text-align: right;\">\n      <th></th>\n      <th>leagueId</th>\n      <th>queueType</th>\n      <th>tier</th>\n      <th>rank</th>\n      <th>summonerId</th>\n      <th>summonerName</th>\n      <th>leaguePoints</th>\n      <th>wins</th>\n      <th>losses</th>\n      <th>veteran</th>\n      <th>inactive</th>\n      <th>freshBlood</th>\n      <th>hotStreak</th>\n      <th>puuid</th>\n    </tr>\n  </thead>\n  <tbody>\n    <tr>\n      <th>0</th>\n      <td>bb766fcd-6fb3-4a83-bb4f-f23ef9219958</td>\n      <td>RANKED_SOLO_5x5</td>\n      <td>DIAMOND</td>\n      <td>I</td>\n      <td>HKLedzO7qssURZr1yFOdZRY_O7tQQSBYxxd3d2jsY7bWqdI</td>\n      <td>DaryL</td>\n      <td>64</td>\n      <td>22</td>\n      <td>15</td>\n      <td>False</td>\n      <td>False</td>\n      <td>False</td>\n      <td>True</td>\n      <td>abU3BrdDWI_A3w4RDv17yjgCfGgjZS63vyLz2dFlc6uutL...</td>\n    </tr>\n    <tr>\n      <th>1</th>\n      <td>45491ebe-679c-4608-9c71-e5a7901ac758</td>\n      <td>RANKED_SOLO_5x5</td>\n      <td>DIAMOND</td>\n      <td>I</td>\n      <td>tBU4nJduBvo-7JQ-O6NycykEx-j7PwCr6HqvvK3lb023YOM</td>\n      <td>neuralplasticity</td>\n      <td>75</td>\n      <td>22</td>\n      <td>20</td>\n      <td>False</td>\n      <td>False</td>\n      <td>False</td>\n      <td>False</td>\n      <td>AMwrD5yBi2STCZIdeTwJH3so5Av2dHcW2zHXzaQHjX9PGD...</td>\n    </tr>\n    <tr>\n      <th>2</th>\n      <td>2b8aa521-d780-4dad-989d-4c859524d5ef</td>\n      <td>RANKED_SOLO_5x5</td>\n      <td>DIAMOND</td>\n      <td>I</td>\n      <td>p_mp24OoqDibzV2hezuoTwizdGwdV0rM2xqI7z1i1D71Uh8</td>\n      <td>Justiça Marielle</td>\n      <td>7</td>\n      <td>64</td>\n      <td>70</td>\n      <td>False</td>\n      <td>False</td>\n      <td>False</td>\n      <td>True</td>\n      <td>30fKnRdigMOQV9cDG1cGLlZTv3p9NR8-zer_zwmh_k6g5z...</td>\n    </tr>\n    <tr>\n      <th>3</th>\n      <td>d3f6f565-34ff-40ee-978f-d8e2fad07624</td>\n      <td>RANKED_SOLO_5x5</td>\n      <td>DIAMOND</td>\n      <td>I</td>\n      <td>dgN65VyzxZwp5_GZ1pBvEtR-O6LEKOK72wQ5uEMoqP0jSEM</td>\n      <td>Patinhuu</td>\n      <td>0</td>\n      <td>43</td>\n      <td>33</td>\n      <td>False</td>\n      <td>False</td>\n      <td>False</td>\n      <td>False</td>\n      <td>bamiZG9BjMtQ8CQIa7l33kvjwvWvngzoHVy2VVjAMDUlqS...</td>\n    </tr>\n    <tr>\n      <th>4</th>\n      <td>63e910fe-c49e-400e-bbe9-f797bf9dc735</td>\n      <td>RANKED_SOLO_5x5</td>\n      <td>DIAMOND</td>\n      <td>I</td>\n      <td>QUpaShwawcc6DqxoBKoeFLhS8_wN7FXRft05oFRsuqozdLM</td>\n      <td>Fallen of Albaz</td>\n      <td>21</td>\n      <td>25</td>\n      <td>13</td>\n      <td>False</td>\n      <td>False</td>\n      <td>False</td>\n      <td>False</td>\n      <td>_x2axTUDQuMjMM6AqnROh3TTjWCWTqtT67sKYEyLCnW2hF...</td>\n    </tr>\n  </tbody>\n</table>\n</div>"
     },
     "execution_count": 85,
     "metadata": {},
     "output_type": "execute_result"
    }
   ],
   "source": [
    "dfListNamesByElo_top5"
   ],
   "metadata": {
    "collapsed": false,
    "ExecuteTime": {
     "end_time": "2024-02-23T20:10:22.031291Z",
     "start_time": "2024-02-23T20:10:22.017009400Z"
    }
   },
   "id": "fa9e45affe106ddd"
  },
  {
   "cell_type": "code",
   "execution_count": 88,
   "outputs": [
    {
     "ename": "AttributeError",
     "evalue": "'DataFrame' object has no attribute 'append'",
     "output_type": "error",
     "traceback": [
      "\u001B[1;31m---------------------------------------------------------------------------\u001B[0m",
      "\u001B[1;31mAttributeError\u001B[0m                            Traceback (most recent call last)",
      "\u001B[1;32m~\\AppData\\Local\\Temp\\ipykernel_22432\\2747106988.py\u001B[0m in \u001B[0;36m?\u001B[1;34m()\u001B[0m\n\u001B[0;32m     19\u001B[0m     \u001B[0mdf_merged\u001B[0m \u001B[1;33m=\u001B[0m \u001B[0mdf_merged\u001B[0m\u001B[1;33m.\u001B[0m\u001B[0mdrop\u001B[0m\u001B[1;33m(\u001B[0m\u001B[0mcolumns\u001B[0m\u001B[1;33m=\u001B[0m\u001B[1;33m[\u001B[0m\u001B[1;34m'id'\u001B[0m\u001B[1;33m]\u001B[0m\u001B[1;33m)\u001B[0m\u001B[1;33m\u001B[0m\u001B[1;33m\u001B[0m\u001B[0m\n\u001B[0;32m     20\u001B[0m \u001B[1;33m\u001B[0m\u001B[0m\n\u001B[0;32m     21\u001B[0m \u001B[1;33m\u001B[0m\u001B[0m\n\u001B[0;32m     22\u001B[0m     \u001B[0mdf_new\u001B[0m \u001B[1;33m=\u001B[0m \u001B[0mdf_merged\u001B[0m\u001B[1;33m.\u001B[0m\u001B[0mset_index\u001B[0m\u001B[1;33m(\u001B[0m\u001B[1;34m'name'\u001B[0m\u001B[1;33m)\u001B[0m\u001B[1;33m[\u001B[0m\u001B[1;34m'level'\u001B[0m\u001B[1;33m]\u001B[0m\u001B[1;33m.\u001B[0m\u001B[0mto_frame\u001B[0m\u001B[1;33m(\u001B[0m\u001B[1;33m)\u001B[0m\u001B[1;33m.\u001B[0m\u001B[0mT\u001B[0m\u001B[1;33m\u001B[0m\u001B[1;33m\u001B[0m\u001B[0m\n\u001B[1;32m---> 23\u001B[1;33m     \u001B[0mdf2\u001B[0m \u001B[1;33m=\u001B[0m \u001B[0mdf_new\u001B[0m\u001B[1;33m.\u001B[0m\u001B[0mappend\u001B[0m\u001B[1;33m(\u001B[0m\u001B[1;33m{\u001B[0m\u001B[1;34m'summonerName'\u001B[0m\u001B[1;33m:\u001B[0m \u001B[0msummonerName\u001B[0m\u001B[1;33m,\u001B[0m \u001B[1;34m'puuid'\u001B[0m\u001B[1;33m:\u001B[0m \u001B[0mpuuid\u001B[0m\u001B[1;33m,\u001B[0m \u001B[1;34m'tier'\u001B[0m\u001B[1;33m:\u001B[0m \u001B[0mtier\u001B[0m\u001B[1;33m,\u001B[0m \u001B[1;34m'division'\u001B[0m\u001B[1;33m:\u001B[0m \u001B[0mdivision\u001B[0m\u001B[1;33m}\u001B[0m\u001B[1;33m,\u001B[0m \u001B[0mignore_index\u001B[0m\u001B[1;33m=\u001B[0m\u001B[1;32mTrue\u001B[0m\u001B[1;33m)\u001B[0m\u001B[1;33m\u001B[0m\u001B[1;33m\u001B[0m\u001B[0m\n\u001B[0m\u001B[0;32m     24\u001B[0m     \u001B[0mdf_concat\u001B[0m \u001B[1;33m=\u001B[0m \u001B[0mpd\u001B[0m\u001B[1;33m.\u001B[0m\u001B[0mconcat\u001B[0m\u001B[1;33m(\u001B[0m\u001B[1;33m[\u001B[0m\u001B[0mdf2\u001B[0m\u001B[1;33m,\u001B[0m \u001B[0mdf_concat\u001B[0m\u001B[1;33m]\u001B[0m\u001B[1;33m)\u001B[0m\u001B[1;33m\u001B[0m\u001B[1;33m\u001B[0m\u001B[0m\n",
      "\u001B[1;32m~\\PycharmProjects\\apiR\\.venv\\Lib\\site-packages\\pandas\\core\\generic.py\u001B[0m in \u001B[0;36m?\u001B[1;34m(self, name)\u001B[0m\n\u001B[0;32m   6289\u001B[0m             \u001B[1;32mand\u001B[0m \u001B[0mname\u001B[0m \u001B[1;32mnot\u001B[0m \u001B[1;32min\u001B[0m \u001B[0mself\u001B[0m\u001B[1;33m.\u001B[0m\u001B[0m_accessors\u001B[0m\u001B[1;33m\u001B[0m\u001B[1;33m\u001B[0m\u001B[0m\n\u001B[0;32m   6290\u001B[0m             \u001B[1;32mand\u001B[0m \u001B[0mself\u001B[0m\u001B[1;33m.\u001B[0m\u001B[0m_info_axis\u001B[0m\u001B[1;33m.\u001B[0m\u001B[0m_can_hold_identifiers_and_holds_name\u001B[0m\u001B[1;33m(\u001B[0m\u001B[0mname\u001B[0m\u001B[1;33m)\u001B[0m\u001B[1;33m\u001B[0m\u001B[1;33m\u001B[0m\u001B[0m\n\u001B[0;32m   6291\u001B[0m         \u001B[1;33m)\u001B[0m\u001B[1;33m:\u001B[0m\u001B[1;33m\u001B[0m\u001B[1;33m\u001B[0m\u001B[0m\n\u001B[0;32m   6292\u001B[0m             \u001B[1;32mreturn\u001B[0m \u001B[0mself\u001B[0m\u001B[1;33m[\u001B[0m\u001B[0mname\u001B[0m\u001B[1;33m]\u001B[0m\u001B[1;33m\u001B[0m\u001B[1;33m\u001B[0m\u001B[0m\n\u001B[1;32m-> 6293\u001B[1;33m         \u001B[1;32mreturn\u001B[0m \u001B[0mobject\u001B[0m\u001B[1;33m.\u001B[0m\u001B[0m__getattribute__\u001B[0m\u001B[1;33m(\u001B[0m\u001B[0mself\u001B[0m\u001B[1;33m,\u001B[0m \u001B[0mname\u001B[0m\u001B[1;33m)\u001B[0m\u001B[1;33m\u001B[0m\u001B[1;33m\u001B[0m\u001B[0m\n\u001B[0m",
      "\u001B[1;31mAttributeError\u001B[0m: 'DataFrame' object has no attribute 'append'"
     ]
    }
   ],
   "source": [
    "df_concat = pd.DataFrame()\n",
    "for index, row in dfListNamesByElo_top5.iterrows():\n",
    "    # Obtendo o nome do invocador da linha atual\n",
    "    puuid = row['puuid']\n",
    "    tier = row['tier']\n",
    "    division = row['rank']\n",
    "    summonerName = row['summonerName']\n",
    "    dfUserChallenge = getChallengeById(puuid)\n",
    "    \n",
    "    df = pd.DataFrame(dfUserChallenge['challenges'])\n",
    "\n",
    "    dfConfig = pd.DataFrame(getConfigChallenge())\n",
    "    dfConfig['name'] = dfConfig['localizedNames'].apply(lambda x: x.get('name', ''))\n",
    "    dfConfig['description'] = dfConfig['localizedNames'].apply(lambda x: x.get('description', ''))\n",
    "    dfConfig['shortDescription'] = dfConfig['localizedNames'].apply(lambda x: x.get('shortDescription', ''))\n",
    "    \n",
    "    # Fundir os DataFrames df e dfConfig com base na correspondência entre df['challengeId'] e dfConfig['id']\n",
    "    df_merged = pd.merge(df, dfConfig[['id', 'name','shortDescription']], left_on='challengeId', right_on='id', how='left')\n",
    "    df_merged = df_merged.drop(columns=['id'])\n",
    "    \n",
    "\n",
    "    df_new = df_merged.set_index('name')['level'].to_frame().T\n",
    "    df2 = df_new.append({'summonerName': summonerName, 'puuid': puuid, 'tier': tier, 'division': division}, ignore_index=True)\n",
    "    df_concat = pd.concat([df2, df_concat])"
   ],
   "metadata": {
    "collapsed": false,
    "ExecuteTime": {
     "end_time": "2024-02-23T20:14:56.432822900Z",
     "start_time": "2024-02-23T20:14:52.280799Z"
    }
   },
   "id": "eadbb86bcc532697"
  },
  {
   "cell_type": "code",
   "execution_count": 98,
   "outputs": [],
   "source": [
    "\n",
    "# DataFrame maior (exemplo)\n",
    "df_maior = pd.DataFrame({\n",
    "    'grupo': ['A', 'A', 'B', 'B'],\n",
    "    'categoria': ['x', 'y', 'x', 'y'],\n",
    "    'valor': [1, 2, 3, 4]\n",
    "})\n",
    "\n",
    "# DataFrame com as linhas que você deseja transformar em colunas\n",
    "df_pivot = pd.DataFrame({\n",
    "    'grupo': ['A', 'B', 'A', 'B'],\n",
    "    'linha': ['linha1', 'linha2', 'linha3', 'linha4'],\n",
    "    'valor': [10, 20, 30, 40]\n",
    "})\n",
    "# Pivotar o DataFrame df_pivot\n",
    "df_pivot_pivotado = df_pivot.pivot(index='grupo', columns='linha', values='valor')\n",
    "\n",
    "# Converter cada linha do DataFrame pivotado em um dicionário\n",
    "dict_pivotado = df_pivot_pivotado.to_dict(orient='records')[0]\n",
    "\n",
    "# Criar um novo DataFrame com uma única linha\n",
    "df_pivot_pivotado_transposto = pd.DataFrame(dict_pivotado, index=[0])\n",
    "\n"
   ],
   "metadata": {
    "collapsed": false,
    "ExecuteTime": {
     "end_time": "2024-02-23T20:50:05.261605700Z",
     "start_time": "2024-02-23T20:50:05.247615400Z"
    }
   },
   "id": "c980f62c55ace99b"
  },
  {
   "cell_type": "code",
   "execution_count": 99,
   "outputs": [
    {
     "data": {
      "text/plain": "   linha1  linha2  linha3  linha4\n0    10.0     NaN    30.0     NaN",
      "text/html": "<div>\n<style scoped>\n    .dataframe tbody tr th:only-of-type {\n        vertical-align: middle;\n    }\n\n    .dataframe tbody tr th {\n        vertical-align: top;\n    }\n\n    .dataframe thead th {\n        text-align: right;\n    }\n</style>\n<table border=\"1\" class=\"dataframe\">\n  <thead>\n    <tr style=\"text-align: right;\">\n      <th></th>\n      <th>linha1</th>\n      <th>linha2</th>\n      <th>linha3</th>\n      <th>linha4</th>\n    </tr>\n  </thead>\n  <tbody>\n    <tr>\n      <th>0</th>\n      <td>10.0</td>\n      <td>NaN</td>\n      <td>30.0</td>\n      <td>NaN</td>\n    </tr>\n  </tbody>\n</table>\n</div>"
     },
     "execution_count": 99,
     "metadata": {},
     "output_type": "execute_result"
    }
   ],
   "source": [
    "df_pivot_pivotado_transposto"
   ],
   "metadata": {
    "collapsed": false,
    "ExecuteTime": {
     "end_time": "2024-02-23T20:50:07.132788600Z",
     "start_time": "2024-02-23T20:50:07.105235600Z"
    }
   },
   "id": "7c8888f60e66f437"
  },
  {
   "cell_type": "code",
   "execution_count": 100,
   "outputs": [
    {
     "data": {
      "text/plain": "     challengeId  percentile     level       value  achievedTime  position  \\\n0              0       0.067  PLATINUM     12220.0  1.693509e+12       NaN   \n1              1       0.065  PLATINUM      1260.0  1.705092e+12       NaN   \n2              2       0.092  PLATINUM      3080.0  1.673913e+12       NaN   \n3              3       0.097  PLATINUM      2650.0  1.663112e+12       NaN   \n4              4       0.064  PLATINUM      3240.0  1.693509e+12       NaN   \n..           ...         ...       ...         ...           ...       ...   \n303       402403       0.090  PLATINUM       743.0  1.694934e+12       NaN   \n304       402400       0.077   DIAMOND       520.0  1.695232e+12       NaN   \n305       402401       0.089   DIAMOND      1821.0  1.695945e+12       NaN   \n306       402408       0.069   DIAMOND    289850.0  1.694205e+12       NaN   \n307       402409       0.066   DIAMOND  12873129.0  1.695230e+12       NaN   \n\n     playersInLevel                 name  \\\n0               NaN              CRISTAL   \n1               NaN           IMAGINAÇÃO   \n2               NaN       ESPECIALIZAÇÃO   \n3               NaN             VIVÊNCIA   \n4               NaN   TRABALHO EM EQUIPE   \n..              ...                  ...   \n303             NaN    Adeus à Escuridão   \n304             NaN        Engenhosidade   \n305             NaN   Escuridão Absoluta   \n306             NaN     Todo Mundo Paga!   \n307             NaN  Receber e Cair Fora   \n\n                                      shortDescription  \n0                      Regras especiais para o Cristal  \n1                                   Divisão IMAGINAÇÃO  \n2                               Divisão ESPECIALIZAÇÃO  \n3                                     Divisão VIVÊNCIA  \n4                           Divisão TRABALHO EM EQUIPE  \n..                                                 ...  \n303                   Posicione Sentinelas de Controle  \n304  Ganhe pontos nos desafios da categoria Engenho...  \n305                                 Elimine sentinelas  \n306                          Ganhe recompensas em ouro  \n307                                         Ganhe ouro  \n\n[308 rows x 9 columns]",
      "text/html": "<div>\n<style scoped>\n    .dataframe tbody tr th:only-of-type {\n        vertical-align: middle;\n    }\n\n    .dataframe tbody tr th {\n        vertical-align: top;\n    }\n\n    .dataframe thead th {\n        text-align: right;\n    }\n</style>\n<table border=\"1\" class=\"dataframe\">\n  <thead>\n    <tr style=\"text-align: right;\">\n      <th></th>\n      <th>challengeId</th>\n      <th>percentile</th>\n      <th>level</th>\n      <th>value</th>\n      <th>achievedTime</th>\n      <th>position</th>\n      <th>playersInLevel</th>\n      <th>name</th>\n      <th>shortDescription</th>\n    </tr>\n  </thead>\n  <tbody>\n    <tr>\n      <th>0</th>\n      <td>0</td>\n      <td>0.067</td>\n      <td>PLATINUM</td>\n      <td>12220.0</td>\n      <td>1.693509e+12</td>\n      <td>NaN</td>\n      <td>NaN</td>\n      <td>CRISTAL</td>\n      <td>Regras especiais para o Cristal</td>\n    </tr>\n    <tr>\n      <th>1</th>\n      <td>1</td>\n      <td>0.065</td>\n      <td>PLATINUM</td>\n      <td>1260.0</td>\n      <td>1.705092e+12</td>\n      <td>NaN</td>\n      <td>NaN</td>\n      <td>IMAGINAÇÃO</td>\n      <td>Divisão IMAGINAÇÃO</td>\n    </tr>\n    <tr>\n      <th>2</th>\n      <td>2</td>\n      <td>0.092</td>\n      <td>PLATINUM</td>\n      <td>3080.0</td>\n      <td>1.673913e+12</td>\n      <td>NaN</td>\n      <td>NaN</td>\n      <td>ESPECIALIZAÇÃO</td>\n      <td>Divisão ESPECIALIZAÇÃO</td>\n    </tr>\n    <tr>\n      <th>3</th>\n      <td>3</td>\n      <td>0.097</td>\n      <td>PLATINUM</td>\n      <td>2650.0</td>\n      <td>1.663112e+12</td>\n      <td>NaN</td>\n      <td>NaN</td>\n      <td>VIVÊNCIA</td>\n      <td>Divisão VIVÊNCIA</td>\n    </tr>\n    <tr>\n      <th>4</th>\n      <td>4</td>\n      <td>0.064</td>\n      <td>PLATINUM</td>\n      <td>3240.0</td>\n      <td>1.693509e+12</td>\n      <td>NaN</td>\n      <td>NaN</td>\n      <td>TRABALHO EM EQUIPE</td>\n      <td>Divisão TRABALHO EM EQUIPE</td>\n    </tr>\n    <tr>\n      <th>...</th>\n      <td>...</td>\n      <td>...</td>\n      <td>...</td>\n      <td>...</td>\n      <td>...</td>\n      <td>...</td>\n      <td>...</td>\n      <td>...</td>\n      <td>...</td>\n    </tr>\n    <tr>\n      <th>303</th>\n      <td>402403</td>\n      <td>0.090</td>\n      <td>PLATINUM</td>\n      <td>743.0</td>\n      <td>1.694934e+12</td>\n      <td>NaN</td>\n      <td>NaN</td>\n      <td>Adeus à Escuridão</td>\n      <td>Posicione Sentinelas de Controle</td>\n    </tr>\n    <tr>\n      <th>304</th>\n      <td>402400</td>\n      <td>0.077</td>\n      <td>DIAMOND</td>\n      <td>520.0</td>\n      <td>1.695232e+12</td>\n      <td>NaN</td>\n      <td>NaN</td>\n      <td>Engenhosidade</td>\n      <td>Ganhe pontos nos desafios da categoria Engenho...</td>\n    </tr>\n    <tr>\n      <th>305</th>\n      <td>402401</td>\n      <td>0.089</td>\n      <td>DIAMOND</td>\n      <td>1821.0</td>\n      <td>1.695945e+12</td>\n      <td>NaN</td>\n      <td>NaN</td>\n      <td>Escuridão Absoluta</td>\n      <td>Elimine sentinelas</td>\n    </tr>\n    <tr>\n      <th>306</th>\n      <td>402408</td>\n      <td>0.069</td>\n      <td>DIAMOND</td>\n      <td>289850.0</td>\n      <td>1.694205e+12</td>\n      <td>NaN</td>\n      <td>NaN</td>\n      <td>Todo Mundo Paga!</td>\n      <td>Ganhe recompensas em ouro</td>\n    </tr>\n    <tr>\n      <th>307</th>\n      <td>402409</td>\n      <td>0.066</td>\n      <td>DIAMOND</td>\n      <td>12873129.0</td>\n      <td>1.695230e+12</td>\n      <td>NaN</td>\n      <td>NaN</td>\n      <td>Receber e Cair Fora</td>\n      <td>Ganhe ouro</td>\n    </tr>\n  </tbody>\n</table>\n<p>308 rows × 9 columns</p>\n</div>"
     },
     "execution_count": 100,
     "metadata": {},
     "output_type": "execute_result"
    }
   ],
   "source": [
    "df_merged"
   ],
   "metadata": {
    "collapsed": false,
    "ExecuteTime": {
     "end_time": "2024-02-23T21:16:25.741302800Z",
     "start_time": "2024-02-23T21:16:25.717595500Z"
    }
   },
   "id": "d4cb96d93c3a49c0"
  },
  {
   "cell_type": "code",
   "execution_count": null,
   "outputs": [],
   "source": [
    "df_concat"
   ],
   "metadata": {
    "collapsed": false,
    "ExecuteTime": {
     "start_time": "2024-02-23T20:08:17.920524700Z"
    }
   },
   "id": "ecf16f83f88fc4a7"
  },
  {
   "cell_type": "code",
   "execution_count": null,
   "outputs": [],
   "source": [
    "dfUserChallenge"
   ],
   "metadata": {
    "collapsed": false,
    "ExecuteTime": {
     "start_time": "2024-02-23T20:08:17.921527100Z"
    }
   },
   "id": "88346ae7ef42e0ea"
  },
  {
   "cell_type": "code",
   "execution_count": 101,
   "outputs": [
    {
     "data": {
      "text/plain": "name   level  ''Ultimate'' Já Diz Tudo  A morte foge de mim: 2023  \\\n0     BRONZE                       NaN                        NaN   \n\nname  AMA Invejável  Abuso de Habilidade  Ace  Ace Impecável  Acerto Certeiro  \\\n0               NaN                  NaN  NaN            NaN              NaN   \n\nname  Acima de todos: 2023  Acumulando Acúmulos  ...  Vigia de Sentinelas  \\\n0                      NaN                  NaN  ...                  NaN   \n\nname  Virtuoso  Visionário  Visual Vintage  Vitória Declarada  \\\n0         30.0         NaN             NaN                NaN   \n\nname  Vitória Perfeita  Vou me esbaldar: 2023  Vá Aonde Quiser  \\\n0                  NaN                    NaN              NaN   \n\nname  \\nFlame Horizon  Ícone do Rift  \n0                 NaN            NaN  \n\n[1 rows x 309 columns]",
      "text/html": "<div>\n<style scoped>\n    .dataframe tbody tr th:only-of-type {\n        vertical-align: middle;\n    }\n\n    .dataframe tbody tr th {\n        vertical-align: top;\n    }\n\n    .dataframe thead th {\n        text-align: right;\n    }\n</style>\n<table border=\"1\" class=\"dataframe\">\n  <thead>\n    <tr style=\"text-align: right;\">\n      <th>name</th>\n      <th>level</th>\n      <th>''Ultimate'' Já Diz Tudo</th>\n      <th>A morte foge de mim: 2023</th>\n      <th>AMA Invejável</th>\n      <th>Abuso de Habilidade</th>\n      <th>Ace</th>\n      <th>Ace Impecável</th>\n      <th>Acerto Certeiro</th>\n      <th>Acima de todos: 2023</th>\n      <th>Acumulando Acúmulos</th>\n      <th>...</th>\n      <th>Vigia de Sentinelas</th>\n      <th>Virtuoso</th>\n      <th>Visionário</th>\n      <th>Visual Vintage</th>\n      <th>Vitória Declarada</th>\n      <th>Vitória Perfeita</th>\n      <th>Vou me esbaldar: 2023</th>\n      <th>Vá Aonde Quiser</th>\n      <th>\\nFlame Horizon</th>\n      <th>Ícone do Rift</th>\n    </tr>\n  </thead>\n  <tbody>\n    <tr>\n      <th>0</th>\n      <td>BRONZE</td>\n      <td>NaN</td>\n      <td>NaN</td>\n      <td>NaN</td>\n      <td>NaN</td>\n      <td>NaN</td>\n      <td>NaN</td>\n      <td>NaN</td>\n      <td>NaN</td>\n      <td>NaN</td>\n      <td>...</td>\n      <td>NaN</td>\n      <td>30.0</td>\n      <td>NaN</td>\n      <td>NaN</td>\n      <td>NaN</td>\n      <td>NaN</td>\n      <td>NaN</td>\n      <td>NaN</td>\n      <td>NaN</td>\n      <td>NaN</td>\n    </tr>\n  </tbody>\n</table>\n<p>1 rows × 309 columns</p>\n</div>"
     },
     "execution_count": 101,
     "metadata": {},
     "output_type": "execute_result"
    }
   ],
   "source": [
    "# Pivotar o DataFrame\n",
    "df_pivoted = df_merged.pivot(index='level', columns='name', values='value').reset_index()\n",
    "\n",
    "# Redefinir o índice para uma única linha\n",
    "df_pivoted = df_pivoted.iloc[[0]]\n",
    "df_pivoted"
   ],
   "metadata": {
    "collapsed": false,
    "ExecuteTime": {
     "end_time": "2024-02-23T21:20:05.063223800Z",
     "start_time": "2024-02-23T21:20:05.031651Z"
    }
   },
   "id": "be8672485116a230"
  },
  {
   "cell_type": "code",
   "execution_count": null,
   "outputs": [],
   "source": [],
   "metadata": {
    "collapsed": false
   },
   "id": "d40596b374bf0a4a"
  }
 ],
 "metadata": {
  "kernelspec": {
   "display_name": "Python 3",
   "language": "python",
   "name": "python3"
  },
  "language_info": {
   "codemirror_mode": {
    "name": "ipython",
    "version": 2
   },
   "file_extension": ".py",
   "mimetype": "text/x-python",
   "name": "python",
   "nbconvert_exporter": "python",
   "pygments_lexer": "ipython2",
   "version": "2.7.6"
  }
 },
 "nbformat": 4,
 "nbformat_minor": 5
}
